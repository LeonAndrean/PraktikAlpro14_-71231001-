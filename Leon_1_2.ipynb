{
 "cells": [
  {
   "cell_type": "code",
   "execution_count": 1,
   "metadata": {},
   "outputs": [
    {
     "name": "stdout",
     "output_type": "stream",
     "text": [
      "17-08-1945 00:00:00 selisih 28778 hari\n",
      "11-11-1785 00:00:00 selisih 87130 hari\n",
      "08-06-1783 00:00:00 selisih 88017 hari\n",
      "02-05-1889 00:00:00 selisih 49338 hari\n"
     ]
    }
   ],
   "source": [
    "#Anda diminta untuk mencari seluruh teks yang berupa tanggal dengan format YYYY-MM-DD dan kemudian seluruh tanggal tersebut\n",
    "#diambil dan ditampilkan kembali dalam format DD-MM-YYYY ditambah dengan perhitungan selisih dengan tanggal sekarang dalam hari.\n",
    "#Contoh:\n",
    "#Pada tanggal 1945-08-17 Indonesia merdeka. Indonesia memiliki beberapa pahlawan nasional, seperti Pangeran Diponegoro (TL: 1785-11-11),\n",
    "#Pattimura (TL: 1783-06-08) dan Ki Hajar Dewantara (1889-05-02).\n",
    "\n",
    "import re\n",
    "from datetime import datetime\n",
    "\n",
    "with open(\"textx.txt\", \"r\") as file:\n",
    "    teks = file.read()\n",
    "\n",
    "tanggal_regex = r'\\b(\\d{4}-\\d{2}-\\d{2})\\b'\n",
    "tanggal_list = re.findall(tanggal_regex, teks)\n",
    "\n",
    "tanggal_sekarang = datetime.now()\n",
    "for tanggal in tanggal_list:\n",
    "    tanggal_obj = datetime.strptime(tanggal, '%Y-%m-%d')\n",
    "    tanggal_str = tanggal_obj.strftime('%d-%m-%Y')\n",
    "    if tanggal_obj > tanggal_sekarang:\n",
    "        selisih_hari = (tanggal_obj - tanggal_sekarang).days\n",
    "    else:\n",
    "        selisih_hari = (tanggal_sekarang - tanggal_obj).days\n",
    "    print(f\"{tanggal_str} 00:00:00 selisih {selisih_hari} hari\")"
   ]
  },
  {
   "cell_type": "code",
   "execution_count": 2,
   "metadata": {},
   "outputs": [
    {
     "name": "stdout",
     "output_type": "stream",
     "text": [
      "anton@mail.com: anton, password: J2eRmiT8\n",
      "budi@gmail.co.id: budi, password: nC8adXdd\n",
      "slamet@getnada.com: slamet, password: XengbOxC\n",
      "matahari@tokopedia.com: matahari, password: nfBjzNQz\n"
     ]
    }
   ],
   "source": [
    "#Anda diminta untuk mencari seluruh teks yang berupa email dan kemudian ambil semua username dari\n",
    "#email tersebut untuk digenerate password random 8 karakter yang terdiri dari angka dan huruf.\n",
    "#Contoh:\n",
    "#Berikut adalah daftar email dan nama pengguna dari mailing list:\n",
    "# anton@mail.com dimiliki oleh antonius\n",
    "# budi@gmail.co.id dimiliki oleh budi anwari\n",
    "# slamet@getnada.com dimiliki oleh slamet slumut\n",
    "# matahari@tokopedia.com dimiliki oleh toko matahari\n",
    "import re\n",
    "import random\n",
    "import string\n",
    "\n",
    "def generate_password(length):\n",
    "    password_characters = string.ascii_letters + string.digits\n",
    "    password = ''.join(random.choice(password_characters) for i in range(length))\n",
    "    return password\n",
    "\n",
    "email_regex = re.compile(r'\\S+@\\S+')\n",
    "txt_file = open(\"teks.txt\", \"r\")\n",
    "txt_content = txt_file.read()    \n",
    "emails = email_regex.findall(txt_content)\n",
    "\n",
    "for email in emails:\n",
    "    username = email.split('@')[0]\n",
    "    print(f'{email}: {username}, password: {generate_password(8)}') "
   ]
  }
 ],
 "metadata": {
  "kernelspec": {
   "display_name": "Python 3",
   "language": "python",
   "name": "python3"
  },
  "language_info": {
   "codemirror_mode": {
    "name": "ipython",
    "version": 3
   },
   "file_extension": ".py",
   "mimetype": "text/x-python",
   "name": "python",
   "nbconvert_exporter": "python",
   "pygments_lexer": "ipython3",
   "version": "3.11.4"
  }
 },
 "nbformat": 4,
 "nbformat_minor": 2
}
